{
 "cells": [
  {
   "cell_type": "code",
   "execution_count": 1,
   "metadata": {},
   "outputs": [],
   "source": [
    "import requests\n",
    "import pandas as pd\n",
    "from bs4 import BeautifulSoup as BS\n",
    "import re"
   ]
  },
  {
   "cell_type": "markdown",
   "metadata": {},
   "source": [
    "Request https://realpython.github.io/fake-jobs"
   ]
  },
  {
   "cell_type": "code",
   "execution_count": 2,
   "metadata": {},
   "outputs": [
    {
     "data": {
      "text/plain": [
       "<Response [200]>"
      ]
     },
     "execution_count": 2,
     "metadata": {},
     "output_type": "execute_result"
    }
   ],
   "source": [
    "URL = 'https://realpython.github.io/fake-jobs'\n",
    "response = requests.get(URL)\n",
    "response.status_code\n",
    "soup = BS(response.text)\n",
    "response"
   ]
  },
  {
   "cell_type": "markdown",
   "metadata": {},
   "source": [
    "Find the tag containing the first job title."
   ]
  },
  {
   "cell_type": "code",
   "execution_count": 3,
   "metadata": {},
   "outputs": [
    {
     "data": {
      "text/plain": [
       "'Senior Python Developer'"
      ]
     },
     "execution_count": 3,
     "metadata": {},
     "output_type": "execute_result"
    }
   ],
   "source": [
    "soup.find('h2').text"
   ]
  },
  {
   "cell_type": "markdown",
   "metadata": {},
   "source": [
    "Now extract **all** job titles."
   ]
  },
  {
   "cell_type": "code",
   "execution_count": 4,
   "metadata": {},
   "outputs": [
    {
     "data": {
      "text/plain": [
       "['Senior Python Developer',\n",
       " 'Energy engineer',\n",
       " 'Legal executive',\n",
       " 'Fitness centre manager',\n",
       " 'Product manager',\n",
       " 'Medical technical officer',\n",
       " 'Physiological scientist',\n",
       " 'Textile designer',\n",
       " 'Television floor manager',\n",
       " 'Waste management officer',\n",
       " 'Software Engineer (Python)',\n",
       " 'Interpreter',\n",
       " 'Architect',\n",
       " 'Meteorologist',\n",
       " 'Audiological scientist',\n",
       " 'English as a second language teacher',\n",
       " 'Surgeon',\n",
       " 'Equities trader',\n",
       " 'Newspaper journalist',\n",
       " 'Materials engineer',\n",
       " 'Python Programmer (Entry-Level)',\n",
       " 'Product/process development scientist',\n",
       " 'Scientist, research (maths)',\n",
       " 'Ecologist',\n",
       " 'Materials engineer',\n",
       " 'Historic buildings inspector/conservation officer',\n",
       " 'Data scientist',\n",
       " 'Psychiatrist',\n",
       " 'Structural engineer',\n",
       " 'Immigration officer',\n",
       " 'Python Programmer (Entry-Level)',\n",
       " 'Neurosurgeon',\n",
       " 'Broadcast engineer',\n",
       " 'Make',\n",
       " 'Nurse, adult',\n",
       " 'Air broker',\n",
       " 'Editor, film/video',\n",
       " 'Production assistant, radio',\n",
       " 'Engineer, communications',\n",
       " 'Sales executive',\n",
       " 'Software Developer (Python)',\n",
       " 'Futures trader',\n",
       " 'Tour manager',\n",
       " 'Cytogeneticist',\n",
       " 'Designer, multimedia',\n",
       " 'Trade union research officer',\n",
       " 'Chemist, analytical',\n",
       " 'Programmer, multimedia',\n",
       " 'Engineer, broadcasting (operations)',\n",
       " 'Teacher, primary school',\n",
       " 'Python Developer',\n",
       " 'Manufacturing systems engineer',\n",
       " 'Producer, television/film/video',\n",
       " 'Scientist, forensic',\n",
       " 'Bonds trader',\n",
       " 'Editorial assistant',\n",
       " 'Photographer',\n",
       " 'Retail banker',\n",
       " 'Jewellery designer',\n",
       " 'Ophthalmologist',\n",
       " 'Back-End Web Developer (Python, Django)',\n",
       " 'Licensed conveyancer',\n",
       " 'Futures trader',\n",
       " 'Counselling psychologist',\n",
       " 'Insurance underwriter',\n",
       " 'Engineer, automotive',\n",
       " 'Producer, radio',\n",
       " 'Dispensing optician',\n",
       " 'Designer, fashion/clothing',\n",
       " 'Chartered loss adjuster',\n",
       " 'Back-End Web Developer (Python, Django)',\n",
       " 'Forest/woodland manager',\n",
       " 'Clinical cytogeneticist',\n",
       " 'Print production planner',\n",
       " 'Systems developer',\n",
       " 'Graphic designer',\n",
       " 'Writer',\n",
       " 'Field seismologist',\n",
       " 'Chief Strategy Officer',\n",
       " 'Air cabin crew',\n",
       " 'Python Programmer (Entry-Level)',\n",
       " 'Warden/ranger',\n",
       " 'Sports therapist',\n",
       " 'Arts development officer',\n",
       " 'Printmaker',\n",
       " 'Health and safety adviser',\n",
       " 'Manufacturing systems engineer',\n",
       " 'Programmer, applications',\n",
       " 'Medical physicist',\n",
       " 'Media planner',\n",
       " 'Software Developer (Python)',\n",
       " 'Surveyor, land/geomatics',\n",
       " 'Legal executive',\n",
       " 'Librarian, academic',\n",
       " 'Barrister',\n",
       " 'Museum/gallery exhibitions officer',\n",
       " 'Radiographer, diagnostic',\n",
       " 'Database administrator',\n",
       " 'Furniture designer',\n",
       " 'Ship broker']"
      ]
     },
     "execution_count": 4,
     "metadata": {},
     "output_type": "execute_result"
    }
   ],
   "source": [
    "# Pull all titles\n",
    "all_titles = soup.findAll('h2')\n",
    "\n",
    "# Create list of all titles as text\n",
    "job_title = [x.text for x in all_titles]\n",
    "    \n",
    "job_title"
   ]
  },
  {
   "cell_type": "markdown",
   "metadata": {},
   "source": [
    "Get companies, locations, and posting dates for each job into lists"
   ]
  },
  {
   "cell_type": "code",
   "execution_count": 5,
   "metadata": {},
   "outputs": [
    {
     "data": {
      "text/plain": [
       "['Payne, Roberts and Davis',\n",
       " 'Vasquez-Davidson',\n",
       " 'Jackson, Chambers and Levy',\n",
       " 'Savage-Bradley',\n",
       " 'Ramirez Inc',\n",
       " 'Rogers-Yates',\n",
       " 'Kramer-Klein',\n",
       " 'Meyers-Johnson',\n",
       " 'Hughes-Williams',\n",
       " 'Jones, Williams and Villa',\n",
       " 'Garcia PLC',\n",
       " 'Gregory and Sons',\n",
       " 'Clark, Garcia and Sosa',\n",
       " 'Bush PLC',\n",
       " 'Salazar-Meyers',\n",
       " 'Parker, Murphy and Brooks',\n",
       " 'Cruz-Brown',\n",
       " 'Macdonald-Ferguson',\n",
       " 'Williams, Peterson and Rojas',\n",
       " 'Smith and Sons',\n",
       " 'Moss, Duncan and Allen',\n",
       " 'Gomez-Carroll',\n",
       " 'Manning, Welch and Herring',\n",
       " 'Lee, Gutierrez and Brown',\n",
       " 'Davis, Serrano and Cook',\n",
       " 'Smith LLC',\n",
       " 'Thomas Group',\n",
       " 'Silva-King',\n",
       " 'Pierce-Long',\n",
       " 'Walker-Simpson',\n",
       " 'Cooper and Sons',\n",
       " 'Donovan, Gonzalez and Figueroa',\n",
       " 'Morgan, Butler and Bennett',\n",
       " 'Snyder-Lee',\n",
       " 'Harris PLC',\n",
       " 'Washington PLC',\n",
       " 'Brown, Price and Campbell',\n",
       " 'Mcgee PLC',\n",
       " 'Dixon Inc',\n",
       " 'Thompson, Sheppard and Ward',\n",
       " 'Adams-Brewer',\n",
       " 'Schneider-Brady',\n",
       " 'Gonzales-Frank',\n",
       " 'Smith-Wong',\n",
       " 'Pierce-Herrera',\n",
       " 'Aguilar, Rivera and Quinn',\n",
       " 'Lowe, Barnes and Thomas',\n",
       " 'Lewis, Gonzalez and Vasquez',\n",
       " 'Taylor PLC',\n",
       " 'Oliver, Jones and Ramirez',\n",
       " 'Rivera and Sons',\n",
       " 'Garcia PLC',\n",
       " 'Johnson, Wells and Kramer',\n",
       " 'Gonzalez LLC',\n",
       " 'Morgan, White and Macdonald',\n",
       " 'Robinson-Fitzpatrick',\n",
       " 'Waters, Wilson and Hoover',\n",
       " 'Hill LLC',\n",
       " 'Li-Gregory',\n",
       " 'Fisher, Ryan and Coleman',\n",
       " 'Stewart-Alexander',\n",
       " 'Abbott and Sons',\n",
       " 'Bryant, Santana and Davenport',\n",
       " 'Smith PLC',\n",
       " 'Patterson-Singh',\n",
       " 'Martinez-Berry',\n",
       " 'May, Taylor and Fisher',\n",
       " 'Bailey, Owen and Thompson',\n",
       " 'Vasquez Ltd',\n",
       " 'Leblanc LLC',\n",
       " 'Jackson, Ali and Mckee',\n",
       " 'Blankenship, Knight and Powell',\n",
       " 'Patton, Haynes and Jones',\n",
       " 'Wood Inc',\n",
       " 'Collins Group',\n",
       " 'Flores-Nelson',\n",
       " 'Mitchell, Jones and Olson',\n",
       " 'Howard Group',\n",
       " 'Kramer-Edwards',\n",
       " 'Berry-Houston',\n",
       " 'Mathews Inc',\n",
       " 'Riley-Johnson',\n",
       " 'Spencer and Sons',\n",
       " 'Camacho-Sanchez',\n",
       " 'Oliver and Sons',\n",
       " 'Eaton PLC',\n",
       " 'Stanley-Frederick',\n",
       " 'Bradley LLC',\n",
       " 'Parker, Goodwin and Zavala',\n",
       " 'Kim-Miles',\n",
       " 'Moreno-Rodriguez',\n",
       " 'Brown-Ortiz',\n",
       " 'Hartman PLC',\n",
       " 'Brooks Inc',\n",
       " 'Washington-Castillo',\n",
       " 'Nguyen, Yoder and Petty',\n",
       " 'Holder LLC',\n",
       " 'Yates-Ferguson',\n",
       " 'Ortega-Lawrence',\n",
       " 'Fuentes, Walls and Castro']"
      ]
     },
     "execution_count": 5,
     "metadata": {},
     "output_type": "execute_result"
    }
   ],
   "source": [
    "all_companies = soup.findAll('h3')\n",
    "\n",
    "company = [x.text for x in all_companies]\n",
    "\n",
    "company"
   ]
  },
  {
   "cell_type": "code",
   "execution_count": 6,
   "metadata": {},
   "outputs": [
    {
     "data": {
      "text/plain": [
       "['Stewartbury, AA',\n",
       " 'Christopherville, AA',\n",
       " 'Port Ericaburgh, AA',\n",
       " 'East Seanview, AP',\n",
       " 'North Jamieview, AP',\n",
       " 'Davidville, AP',\n",
       " 'South Christopher, AE',\n",
       " 'Port Jonathan, AE',\n",
       " 'Osbornetown, AE',\n",
       " 'Scotttown, AP',\n",
       " 'Ericberg, AE',\n",
       " 'Ramireztown, AE',\n",
       " 'Figueroaview, AA',\n",
       " 'Kelseystad, AA',\n",
       " 'Williamsburgh, AE',\n",
       " 'Mitchellburgh, AE',\n",
       " 'West Jessicabury, AA',\n",
       " 'Maloneshire, AE',\n",
       " 'Johnsonton, AA',\n",
       " 'South Davidtown, AP',\n",
       " 'Port Sara, AE',\n",
       " 'Marktown, AA',\n",
       " 'Laurenland, AE',\n",
       " 'Lauraton, AP',\n",
       " 'South Tammyberg, AP',\n",
       " 'North Brandonville, AP',\n",
       " 'Port Robertfurt, AA',\n",
       " 'Burnettbury, AE',\n",
       " 'Herbertside, AA',\n",
       " 'Christopherport, AP',\n",
       " 'West Victor, AE',\n",
       " 'Port Aaron, AP',\n",
       " 'Loribury, AA',\n",
       " 'Angelastad, AP',\n",
       " 'Larrytown, AE',\n",
       " 'West Colin, AP',\n",
       " 'West Stephanie, AP',\n",
       " 'Laurentown, AP',\n",
       " 'Wrightberg, AP',\n",
       " 'Alberttown, AE',\n",
       " 'Brockburgh, AE',\n",
       " 'North Jason, AE',\n",
       " 'Arnoldhaven, AE',\n",
       " 'Lake Destiny, AP',\n",
       " 'South Timothyburgh, AP',\n",
       " 'New Jimmyton, AE',\n",
       " 'New Lucasbury, AP',\n",
       " 'Port Cory, AE',\n",
       " 'Gileston, AA',\n",
       " 'Cindyshire, AA',\n",
       " 'East Michaelfort, AA',\n",
       " 'Joybury, AE',\n",
       " 'Emmatown, AE',\n",
       " 'Colehaven, AP',\n",
       " 'Port Coryton, AE',\n",
       " 'Amyborough, AA',\n",
       " 'Reynoldsville, AA',\n",
       " 'Port Billy, AP',\n",
       " 'Adamburgh, AA',\n",
       " 'Wilsonmouth, AA',\n",
       " 'South Kimberly, AA',\n",
       " 'Benjaminland, AP',\n",
       " 'Zacharyport, AA',\n",
       " 'Port Devonville, AE',\n",
       " 'East Thomas, AE',\n",
       " 'New Jeffrey, AP',\n",
       " 'Davidside, AA',\n",
       " 'Jamesville, AA',\n",
       " 'New Kelly, AP',\n",
       " 'Lake Antonio, AA',\n",
       " 'New Elizabethside, AA',\n",
       " 'Millsbury, AE',\n",
       " 'Lloydton, AP',\n",
       " 'Port Jeremy, AA',\n",
       " 'New Elizabethtown, AA',\n",
       " 'Charlesstad, AE',\n",
       " 'Josephbury, AE',\n",
       " 'Seanfurt, AA',\n",
       " 'Williambury, AA',\n",
       " 'South Jorgeside, AP',\n",
       " 'Robertborough, AP',\n",
       " 'South Saratown, AP',\n",
       " 'Hullview, AA',\n",
       " 'Philipland, AP',\n",
       " 'North Patty, AE',\n",
       " 'North Stephen, AE',\n",
       " 'Stevensland, AP',\n",
       " 'Reyesstad, AE',\n",
       " 'Bellberg, AP',\n",
       " 'North Johnland, AE',\n",
       " 'Martinezburgh, AE',\n",
       " 'Joshuatown, AE',\n",
       " 'West Ericstad, AA',\n",
       " 'Tuckertown, AE',\n",
       " 'Perezton, AE',\n",
       " 'Lake Abigail, AE',\n",
       " 'Jacobshire, AP',\n",
       " 'Port Susan, AE',\n",
       " 'North Tiffany, AA',\n",
       " 'Michelleville, AP']"
      ]
     },
     "execution_count": 6,
     "metadata": {},
     "output_type": "execute_result"
    }
   ],
   "source": [
    "all_locations = soup.findAll('p', class_='location')\n",
    "\n",
    "location = [x.text.strip() for x in all_locations]\n",
    "\n",
    "location"
   ]
  },
  {
   "cell_type": "code",
   "execution_count": 7,
   "metadata": {},
   "outputs": [],
   "source": [
    "all_postings = soup.findAll('time')\n",
    "\n",
    "post_date = [x.text for x in all_postings]"
   ]
  },
  {
   "cell_type": "code",
   "execution_count": 8,
   "metadata": {},
   "outputs": [
    {
     "data": {
      "text/html": [
       "<div>\n",
       "<style scoped>\n",
       "    .dataframe tbody tr th:only-of-type {\n",
       "        vertical-align: middle;\n",
       "    }\n",
       "\n",
       "    .dataframe tbody tr th {\n",
       "        vertical-align: top;\n",
       "    }\n",
       "\n",
       "    .dataframe thead th {\n",
       "        text-align: right;\n",
       "    }\n",
       "</style>\n",
       "<table border=\"1\" class=\"dataframe\">\n",
       "  <thead>\n",
       "    <tr style=\"text-align: right;\">\n",
       "      <th></th>\n",
       "      <th>title</th>\n",
       "      <th>company</th>\n",
       "      <th>location</th>\n",
       "      <th>posting_date</th>\n",
       "    </tr>\n",
       "  </thead>\n",
       "  <tbody>\n",
       "    <tr>\n",
       "      <th>0</th>\n",
       "      <td>Senior Python Developer</td>\n",
       "      <td>Payne, Roberts and Davis</td>\n",
       "      <td>Stewartbury, AA</td>\n",
       "      <td>2021-04-08</td>\n",
       "    </tr>\n",
       "    <tr>\n",
       "      <th>1</th>\n",
       "      <td>Energy engineer</td>\n",
       "      <td>Vasquez-Davidson</td>\n",
       "      <td>Christopherville, AA</td>\n",
       "      <td>2021-04-08</td>\n",
       "    </tr>\n",
       "    <tr>\n",
       "      <th>2</th>\n",
       "      <td>Legal executive</td>\n",
       "      <td>Jackson, Chambers and Levy</td>\n",
       "      <td>Port Ericaburgh, AA</td>\n",
       "      <td>2021-04-08</td>\n",
       "    </tr>\n",
       "    <tr>\n",
       "      <th>3</th>\n",
       "      <td>Fitness centre manager</td>\n",
       "      <td>Savage-Bradley</td>\n",
       "      <td>East Seanview, AP</td>\n",
       "      <td>2021-04-08</td>\n",
       "    </tr>\n",
       "    <tr>\n",
       "      <th>4</th>\n",
       "      <td>Product manager</td>\n",
       "      <td>Ramirez Inc</td>\n",
       "      <td>North Jamieview, AP</td>\n",
       "      <td>2021-04-08</td>\n",
       "    </tr>\n",
       "  </tbody>\n",
       "</table>\n",
       "</div>"
      ],
      "text/plain": [
       "                     title                     company              location  \\\n",
       "0  Senior Python Developer    Payne, Roberts and Davis       Stewartbury, AA   \n",
       "1          Energy engineer            Vasquez-Davidson  Christopherville, AA   \n",
       "2          Legal executive  Jackson, Chambers and Levy   Port Ericaburgh, AA   \n",
       "3   Fitness centre manager              Savage-Bradley     East Seanview, AP   \n",
       "4          Product manager                 Ramirez Inc   North Jamieview, AP   \n",
       "\n",
       "  posting_date  \n",
       "0   2021-04-08  \n",
       "1   2021-04-08  \n",
       "2   2021-04-08  \n",
       "3   2021-04-08  \n",
       "4   2021-04-08  "
      ]
     },
     "execution_count": 8,
     "metadata": {},
     "output_type": "execute_result"
    }
   ],
   "source": [
    "jobs = pd.DataFrame({'title': job_title, 'company': company, 'location': location, 'posting_date': post_date})\n",
    "jobs.head()"
   ]
  },
  {
   "cell_type": "markdown",
   "metadata": {},
   "source": [
    "Add a column that includes the link to apply"
   ]
  },
  {
   "cell_type": "code",
   "execution_count": 9,
   "metadata": {},
   "outputs": [
    {
     "data": {
      "text/html": [
       "<div>\n",
       "<style scoped>\n",
       "    .dataframe tbody tr th:only-of-type {\n",
       "        vertical-align: middle;\n",
       "    }\n",
       "\n",
       "    .dataframe tbody tr th {\n",
       "        vertical-align: top;\n",
       "    }\n",
       "\n",
       "    .dataframe thead th {\n",
       "        text-align: right;\n",
       "    }\n",
       "</style>\n",
       "<table border=\"1\" class=\"dataframe\">\n",
       "  <thead>\n",
       "    <tr style=\"text-align: right;\">\n",
       "      <th></th>\n",
       "      <th>title</th>\n",
       "      <th>company</th>\n",
       "      <th>location</th>\n",
       "      <th>posting_date</th>\n",
       "      <th>link</th>\n",
       "    </tr>\n",
       "  </thead>\n",
       "  <tbody>\n",
       "    <tr>\n",
       "      <th>0</th>\n",
       "      <td>Senior Python Developer</td>\n",
       "      <td>Payne, Roberts and Davis</td>\n",
       "      <td>Stewartbury, AA</td>\n",
       "      <td>2021-04-08</td>\n",
       "      <td>https://realpython.github.io/fake-jobs/jobs/se...</td>\n",
       "    </tr>\n",
       "    <tr>\n",
       "      <th>1</th>\n",
       "      <td>Energy engineer</td>\n",
       "      <td>Vasquez-Davidson</td>\n",
       "      <td>Christopherville, AA</td>\n",
       "      <td>2021-04-08</td>\n",
       "      <td>https://realpython.github.io/fake-jobs/jobs/en...</td>\n",
       "    </tr>\n",
       "    <tr>\n",
       "      <th>2</th>\n",
       "      <td>Legal executive</td>\n",
       "      <td>Jackson, Chambers and Levy</td>\n",
       "      <td>Port Ericaburgh, AA</td>\n",
       "      <td>2021-04-08</td>\n",
       "      <td>https://realpython.github.io/fake-jobs/jobs/le...</td>\n",
       "    </tr>\n",
       "    <tr>\n",
       "      <th>3</th>\n",
       "      <td>Fitness centre manager</td>\n",
       "      <td>Savage-Bradley</td>\n",
       "      <td>East Seanview, AP</td>\n",
       "      <td>2021-04-08</td>\n",
       "      <td>https://realpython.github.io/fake-jobs/jobs/fi...</td>\n",
       "    </tr>\n",
       "    <tr>\n",
       "      <th>4</th>\n",
       "      <td>Product manager</td>\n",
       "      <td>Ramirez Inc</td>\n",
       "      <td>North Jamieview, AP</td>\n",
       "      <td>2021-04-08</td>\n",
       "      <td>https://realpython.github.io/fake-jobs/jobs/pr...</td>\n",
       "    </tr>\n",
       "  </tbody>\n",
       "</table>\n",
       "</div>"
      ],
      "text/plain": [
       "                     title                     company              location  \\\n",
       "0  Senior Python Developer    Payne, Roberts and Davis       Stewartbury, AA   \n",
       "1          Energy engineer            Vasquez-Davidson  Christopherville, AA   \n",
       "2          Legal executive  Jackson, Chambers and Levy   Port Ericaburgh, AA   \n",
       "3   Fitness centre manager              Savage-Bradley     East Seanview, AP   \n",
       "4          Product manager                 Ramirez Inc   North Jamieview, AP   \n",
       "\n",
       "  posting_date                                               link  \n",
       "0   2021-04-08  https://realpython.github.io/fake-jobs/jobs/se...  \n",
       "1   2021-04-08  https://realpython.github.io/fake-jobs/jobs/en...  \n",
       "2   2021-04-08  https://realpython.github.io/fake-jobs/jobs/le...  \n",
       "3   2021-04-08  https://realpython.github.io/fake-jobs/jobs/fi...  \n",
       "4   2021-04-08  https://realpython.github.io/fake-jobs/jobs/pr...  "
      ]
     },
     "execution_count": 9,
     "metadata": {},
     "output_type": "execute_result"
    }
   ],
   "source": [
    "apply_links = soup.findAll('a')\n",
    "# Also need to filter out the duplicate URL that appears every other entry.\n",
    "link = [apply_links[x].get('href') for x in range(1, len(apply_links), 2)]\n",
    "\n",
    "link\n",
    "\n",
    "jobs['link'] = link\n",
    "jobs.head()"
   ]
  },
  {
   "cell_type": "markdown",
   "metadata": {},
   "source": [
    "**Alternate Solution** build the URLs from scratch.\n",
    "\n",
    "The URL strings follow the following convention:\n",
    "- https :// realpython.github.io / fake-jobs / jobs / <job_title_lowercase> <next_counter>.html"
   ]
  },
  {
   "cell_type": "markdown",
   "metadata": {},
   "source": [
    "Get job descriptions from each posting"
   ]
  },
  {
   "cell_type": "code",
   "execution_count": 10,
   "metadata": {},
   "outputs": [],
   "source": [
    "# Start with just the first posting to figure out where it's stored\n",
    "URL = 'https://realpython.github.io/fake-jobs/jobs/senior-python-developer-0.html'\n",
    "response = requests.get(URL)\n",
    "response.status_code\n",
    "soup = BS(response.text)"
   ]
  },
  {
   "cell_type": "code",
   "execution_count": 11,
   "metadata": {},
   "outputs": [
    {
     "data": {
      "text/plain": [
       "'Professional asset web application environmentally friendly detail-oriented asset. Coordinate educational dashboard agile employ growth opportunity. Company programs CSS explore role. Html educational grit web application. Oversea SCRUM talented support. Web Application fast-growing communities inclusive programs job CSS. Css discussions growth opportunity explore open-minded oversee. Css Python environmentally friendly collaborate inclusive role. Django no experience oversee dashboard environmentally friendly willing to learn programs. Programs open-minded programs asset.'"
      ]
     },
     "execution_count": 11,
     "metadata": {},
     "output_type": "execute_result"
    }
   ],
   "source": [
    "soup.findAll('p')[1].text"
   ]
  },
  {
   "cell_type": "markdown",
   "metadata": {},
   "source": [
    "Now create a function to do the same thing, but with an argument for the URL to get **any** job description.<br>(Assuming the webpage is formatted the same)"
   ]
  },
  {
   "cell_type": "markdown",
   "metadata": {},
   "source": [
    "All the URLs have the same naming ocnvention:<br>- Website Name/'<br>- fake-jobs/<br>- job-title-all-lowercase-hyphenated<br>- -counter.html<br><br>Start by creating the first URL with a RegEx"
   ]
  },
  {
   "cell_type": "markdown",
   "metadata": {},
   "source": [
    "Get the job description from first posting."
   ]
  },
  {
   "cell_type": "code",
   "execution_count": 12,
   "metadata": {},
   "outputs": [
    {
     "data": {
      "text/plain": [
       "<Response [200]>"
      ]
     },
     "execution_count": 12,
     "metadata": {},
     "output_type": "execute_result"
    }
   ],
   "source": [
    "URL = 'https://realpython.github.io/fake-jobs/jobs/senior-python-developer-0.html'\n",
    "response = requests.get(URL)\n",
    "response.status_code\n",
    "soup = BS(response.text)\n",
    "response"
   ]
  },
  {
   "cell_type": "code",
   "execution_count": 13,
   "metadata": {},
   "outputs": [
    {
     "data": {
      "text/plain": [
       "'Professional asset web application environmentally friendly detail-oriented asset. Coordinate educational dashboard agile employ growth opportunity. Company programs CSS explore role. Html educational grit web application. Oversea SCRUM talented support. Web Application fast-growing communities inclusive programs job CSS. Css discussions growth opportunity explore open-minded oversee. Css Python environmentally friendly collaborate inclusive role. Django no experience oversee dashboard environmentally friendly willing to learn programs. Programs open-minded programs asset.'"
      ]
     },
     "execution_count": 13,
     "metadata": {},
     "output_type": "execute_result"
    }
   ],
   "source": [
    "soup.find('p', 'class' == 'content').text"
   ]
  },
  {
   "cell_type": "markdown",
   "metadata": {},
   "source": [
    "Now create a function to pull the description paragraphs from each URL."
   ]
  },
  {
   "cell_type": "code",
   "execution_count": 14,
   "metadata": {},
   "outputs": [],
   "source": [
    "def get_desc(x):\n",
    "    response = requests.get(x)\n",
    "    response.status_code\n",
    "    soup = BS(response.text)\n",
    "    print(soup.find('p', 'class' == 'content').text)"
   ]
  },
  {
   "cell_type": "markdown",
   "metadata": {},
   "source": [
    "Now use .apply to run the function and get all the job descriptions."
   ]
  },
  {
   "cell_type": "code",
   "execution_count": 26,
   "metadata": {},
   "outputs": [
    {
     "name": "stdout",
     "output_type": "stream",
     "text": [
      "Professional asset web application environmentally friendly detail-oriented asset. Coordinate educational dashboard agile employ growth opportunity. Company programs CSS explore role. Html educational grit web application. Oversea SCRUM talented support. Web Application fast-growing communities inclusive programs job CSS. Css discussions growth opportunity explore open-minded oversee. Css Python environmentally friendly collaborate inclusive role. Django no experience oversee dashboard environmentally friendly willing to learn programs. Programs open-minded programs asset.\n",
      "Party prevent live. Quickly candidate change although. Together type music hospital. Every speech support time operation wear often.\n",
      "Administration even relate head color. Staff beyond chair recently and off. Own available buy country store build before. Already against which continue. Look road article quickly. International big employee determine positive go Congress. Level others record hospital employee toward like.\n",
      "Tv program actually race tonight themselves true power. Study economy night actually score from. Name care several. Good explain grow water plant perform resource. Security stock ball organization recognize civil. Pm her then nothing increase.\n",
      "Traditional page a although for study anyone. Could yourself plan base rise would. Wear individual about add senior woman. Partner couple part cup few read consider. Take however ball ever laugh society technology. President stage population boy.\n",
      "Suffer which parent. Republican total policy head Mrs debate onto. Catch even front. Responsibility full per among clearly word. Guess writer can boy room. Film tax rock. Idea foreign increase between training.\n",
      "Friend reach choose coach north. Assume be seek article. Better news face.\n",
      "Court boy state table agree moment. Budget huge debate among way. Perhaps bit learn gun still. Writer work chance image. There many true follow marriage material. Myself use act relationship section.\n",
      "At be than always different American address. Former claim chance prevent why measure too. Almost before some military outside baby interview. Face top individual win suddenly. Parent do ten after those scientist. Medical effort assume teacher wall. Significant his himself clearly very. Expert stop area along individual. Three own bank recognize special good along.\n",
      "Food record power crime situation since book art. Pass value practice wide require fast support. Son true their race special million. Although hot he couple ground.\n",
      "Collaborate discussions responsible tech growth opportunity dashboard. Distributed SCRUM willing to learn Flask build environmentally friendly environmentally friendly. Python distributed developer teamwork inclusive Flask. Professional environmentally friendly asset CSS no experience no experience. Grit oversea Java detail-oriented collaborate relocation. Responsible Tech support support motivated teamwork willing to learn job relocation. Environmentally Friendly collaborate role. Willing To Learn oversea asset role asset relocation web application. Agile responsible tech build oversee coordinate.\n",
      "Door contain head production technology. After back available inside nearly scientist central instead. Be know hard we around impact. While top kid he weight before. Someone everybody newspaper read. Up control instead company where future model. Leg PM low data ability recognize. Left despite boy without feeling participant interest seem.\n",
      "Huge three report know second. Exist sense training other along society. Move brother teacher three seven. Increase face mind off.\n",
      "Case but building husband life nice federal place. Design major maybe manage when know. Seat appear perform agent. Hospital year suffer without rather bank we. According American per yourself their record. Cell of course its respond. Collection instead today itself language remember. Firm decade cost glass work interview man. Somebody keep daughter report town. Doctor be cost. Sea quality do father.\n",
      "Program possible natural same issue lawyer effort. Democratic entire analysis clear about pressure cell. Quite wife however TV law fund. Paper beat five movie. Eight miss couple bag thank generation. Economy rock feeling might his. Gas Republican and various authority leave right. True include management. Brother bank better she increase try.\n",
      "Various floor itself news experience. Smile represent since method left plant evening. Budget situation between. Eat expect save process score middle. Business population brother. Grow push region produce develop story drive.\n",
      "Happen play speech theory choice computer. Career deal trip market. Dog car do his part. Pick too blue street. Other majority final when new clear these. National region bad case I course first.\n",
      "Public figure ground much run character. Make article drop. Difficult president at. General professional career two. Itself group computer forget would section him.\n",
      "May perform product. Bag down stock computer. What to sea. Collection bad until our per leader change.\n",
      "Leader medical class send. Establish manage hotel financial too nearly. Significant now energy. Lay return identify. Anything event yet effect quite reflect upon. Several might history strong economy. Not forget why under. Purpose mouth then class test check suffer star. Staff north weight guy personal follow situation over.\n",
      "Java programs distributed teamwork Java developer talented developer. Teamwork growth opportunity programs remote. Communities agile Flask company CSS teamwork. Software Developer SCRUM oversea CSS Flask role job. Developer motivated environmentally friendly build oversea teamwork build. Growth Opportunity inclusive employ educational relocation company. Motivated growth opportunity growth opportunity dashboard.\n",
      "Tell time special beyond could key assume. Play wait education think similar particular. Film manage several dark. Hit simple personal home they although.\n",
      "Bank ten guess. Course book music amount. Fire town worker. Image central challenge term memory. By care lose politics. Role mind statement.\n",
      "Son foreign remember site military. Your choice too need although one political. Time firm water. Possible lead draw learn city. Tree care sign arm bar military. Spend bag into. Now from her gun subject PM. First age safe affect.\n",
      "Approach great top series public none. Include air sort couple hold group but. Again identify real to follow so. Live teach movie I situation understand agree.\n",
      "Heavy church nature. Civil single city quite. Foreign agency when personal huge difficult player forget. Goal clear inside guy north. North add us accept hope soon.\n",
      "Skin industry nothing rather represent two. Member mouth authority imagine probably whom. Time early high trouble drive loss. Attorney education every money my page single theory. American focus something who blood.\n",
      "Claim future in opportunity you exist me. Generation pick she picture send cultural. Computer on fast play fact. Alone improve heart decade care book. Close issue huge away represent race. Nation network college debate direction moment. Ground think save respond friend budget while. Significant energy citizen physical why mouth. Treatment worker season figure. Get we memory who yet spend. Challenge on plant wonder. Blood single recently other owner message entire. Collection be along break gun reveal five put.\n",
      "Tv collection still support these military part. Just raise enough onto try. Those north trouble upon. Popular if do them. Lose big strategy.\n",
      "Lead while long not. News enter director book cell speech. Probably arm program only. According television next sense make. Use nice themselves gas. Rate drop marriage worker.\n",
      "Asset fast-growing role agile support discussions. Agile explore detail-oriented willing to learn oversea fast-growing. Talented relocation environmentally friendly Flask oversea. Discussions CSS agile curious educational willing to learn.\n",
      "Left very your stock determine human find. Fire range begin first through. Star issue any side image. Customer force both something hair. Well account movement can start.\n",
      "Unit dinner indeed listen. Job high she. West agreement girl happen front law care military. War resource evening realize per. Her of process cut. Matter nice really listen meeting language condition.\n",
      "Agency rich accept if share land. Drop local cell kid growth main. Why mission because feel. Piece but arrive garden free perform civil. Hope could many cold another way sign. Thought radio minute rich consumer type. Old charge read management production up our allow. Toward such new cultural analysis care kitchen. Difference range technology serious international position write those.\n",
      "Suffer life chair senior seem west. Week remain decide happy another image. Take one them in. Plant whether protect most trade. Herself Mr bad wide manage.\n",
      "Happen letter body language there wonder him. Until direction opportunity very analysis firm once. As year look floor role agency its. Seven those budget involve. Picture enough break. Health sort couple station my. Middle add traditional standard PM election. General yet party individual. Edge bit avoid yourself.\n",
      "Cut recognize keep citizen result thus. System democratic stock worker everybody professor show. Produce foreign the site. Along particularly factor boy Republican without. Never ten become me story but order. You company drop join recognize all structure. Away wish finish within president. Any remain support realize cause.\n",
      "Hear minute discuss space himself draw. Better consumer campaign join throw. Moment buy east example identify likely. Clearly thought modern dark. Determine feeling certainly necessary. Name Congress ten return understand. During nice thing ok.\n",
      "Cold measure defense mouth manage camera. Mouth tonight throw action. Second late every include generation. Election baby seven only scientist teach.\n",
      "Out goal group. Maybe read card look safe. Part fund feeling cause stand. Give point herself official receive may. Successful country describe method meeting space military. Sing media step live game item lay. Appear role why learn attention cut billion. Without wall stay describe time.\n",
      "Asset include open-minded HTML fast-growing. Coordinate discussions grit discussions. Coordinate communities HTML. Support Java Java talented explore dashboard. Growth Opportunity educational collaborate job Flask explore talented talented. Dashboard distributed oversee environmentally friendly. Java Python asset SCRUM company employ web application web application.\n",
      "Part instead city type short rather. Once born control white. Rather beyond share energy size. Meeting movie avoid American address simply. Thousand impact six loss. Finish star be.\n",
      "Night reflect image throughout. Area student there certainly walk camera debate. Store office explain education. Range ten television model sing then. Choice cell seven care yet. According star study form seem beat. Effect forward magazine movie base.\n",
      "Finish these century alone popular break attention. North good program risk I. Season toward level generation since also. Sit hand society according off little. Itself people nation million born American. Always hand game magazine series think.\n",
      "Moment young close history explain these low. Religious your outside. Particularly firm foreign involve. Century involve down herself drive effort drop onto. Walk draw front plan focus century.\n",
      "Must toward family event. Government image room analysis what. Story suggest learn economy explain main sport summer. Approach trip throughout free civil entire. Just nature increase trouble heart watch bed. Yet so before wrong.\n",
      "Report sign office until particularly when. Everyone city contain week carry. Election small certainly pattern daughter. Together professional wind consider. Admit Mrs look call spring establish together record. Social say about century debate.\n",
      "Discuss power safe push country glass. Good open executive experience hotel. Heart west training believe. Resource truth leave institution. Crime social school enter wind heavy anything. Save himself call report must charge. Figure kitchen seven. Decision data wrong best I medical. See collection cut drive out image thought.\n",
      "Mind perform over ten tree pull likely. Owner ahead generation shoulder day popular window key. Radio stay century law before everybody power. Forget result professor research theory become. Step have perform because. Important they tax machine. Military plan school certainly. Focus raise away tough subject customer far. Prepare scene house central baby picture. Money store majority choice. Then investment scientist bring.\n",
      "Positive better management minute air represent. Beat start say either none heavy down business. Way sister civil market value during difficult religious. Ten will summer specific.\n",
      "Css role company. Oversea include distributed educational. Talented support curious CSS include. Collaborate oversee responsible tech employ distributed software developer company. Css talented company environmentally friendly SCRUM Flask. Include talented educational SCRUM relocation. Professional asset Django growth opportunity discussions dashboard discussions. Explore build software developer developer job willing to learn remote. Support responsible tech communities remote explore. Teamwork Java job oversee CSS. Talented Flask oversee CSS.\n",
      "Improve once worry newspaper laugh benefit. Teach hit lose hotel result instead push. Over feeling money newspaper question. Why ability fund. Laugh cup hear prove leave national. Hundred billion blue right fine boy sing.\n",
      "Let toward reason key. Agree her whether beyond bar shoulder decade. Director population measure student cost policy. Open wife owner. Get finish pick shake level. General simple cost develop left.\n",
      "Staff week own necessary allow. Throughout society theory happy culture daughter. Yeah process rest really wait if everything. Into name response garden.\n",
      "Get poor herself population. Executive will network physical play. Child push it why research wind yard. Return few natural fight stand one significant get. Keep kid assume dinner former heavy.\n",
      "Would truth join issue face key when. City citizen to. List run safe figure. Allow star forward leave art practice.\n",
      "Some before according. Around almost amount themselves test. Power one after score career big remember.\n",
      "Big talk role instead candidate phone when. Easy role yes to more food recognize. Hotel fill not before painting sure whom. Wall measure again ability election. Present carry break majority low.\n",
      "Believe soldier certain edge couple break provide drug. Show whatever simple wrong newspaper allow. Discuss almost serious Mr sing city. Another wonder reveal yet possible. Similar entire pretty. Effect unit state plant. Market the particular available.\n",
      "Nature cup whom poor send through law national. Or which white get bring society industry. Look too reveal safe. Top his outside project us pass management serious. Child investment yourself still. Education red citizen notice feeling. Better child computer either.\n",
      "Explore professional teamwork software developer dashboard distributed. Css asset distributed curious inclusive CSS. Professional motivated remote. Oversea web application Flask HTML CSS web application Java. Employ explore support Flask collaborate developer explore growth opportunity.\n",
      "Simple guess member hour movement. Benefit thus mean certainly value create agree likely. Model cause letter career election few turn. Tree amount billion beyond quality fill final. Half side price little identify degree individual environment. It manage heavy investment day interest side. Author carry focus fact special. Early leave camera future despite child. Only know fish beautiful firm evening green. Both focus foreign four. Country power police.\n",
      "Her become less. Religious around both place. Parent behind bank oil describe section. Suddenly idea common laugh environment. Phone positive idea throughout concern class. Deep minute top group.\n",
      "Matter upon assume trouble. Its guess different follow current pay. Produce team operation point loss mean. Similar adult range true even. Nature street find community any morning more. None say heart information part full your yeah. Mind scene ago scene.\n",
      "Push serve rule thus. Western worry week people worker time. Hot always say notice though. Increase simple as. Use through first exactly. Since laugh model make speak. Thank kitchen move husband friend idea thus. Up add subject research sell.\n",
      "Me media onto continue machine. View its contain such approach although say. Smile reveal third option. None position hand benefit.\n",
      "Believe industry yeah see country. Concern reach every put. Knowledge report national senior. Activity country itself eat former into. Foreign loss manage each. General college bed everybody. According speech personal task same yourself front. Suddenly really social standard even exist identify. Speak lay born. Form parent majority know participant. Increase ago surface weight. Back ten mention laugh.\n",
      "Drug dark wrong response. Agree tax form great education. See we find knowledge treatment development serious. Address star role yard son speech Democrat.\n",
      "Represent performance cold if project. Statement unit in baby. Economic attack food laugh newspaper part better. Specific city paper part. Simply degree article available possible order.\n",
      "Suffer space a would free finally. Society oil activity include audience white step. Star feel chance although address politics. Across do issue let spend compare. Lawyer attack simply protect something camera himself. Safe prepare blue tend. If executive success ago five information.\n",
      "Detail-Oriented support Django. Build support support agile. Oversee SCRUM role coordinate distributed Python. Inclusive willing to learn build inclusive environmentally friendly developer. Discussions distributed remote build Flask growth opportunity. Environmentally Friendly talented software developer collaborate remote collaborate. Programs developer developer professional. Role asset company growth opportunity. Programs communities employ relocation. Software Developer CSS motivated. Discussions fast-growing discussions employ coordinate. Oversee curious detail-oriented dashboard detail-oriented. Company grit oversea support. Collaborate company support grit willing to learn company.\n",
      "Feel beat why matter instead need conference. Expert suggest school far. Tonight east trouble two oil drive local. Group environmental foreign threat billion. Less physical media artist. Husband lot start find cell animal ready. Less concern several than. Factor blue walk water while.\n",
      "Painting fast magazine east since use out. Will consider probably against. Bill fire through bill. Wide billion raise mission recently value expert. Bed among understand else represent detail open future.\n",
      "Effect adult run point spring room. Travel responsibility cut hour pick Mrs. Soldier against take budget agency century. Anything trial factor culture. Drug north shake property fish plan. Expert assume every walk degree rise laugh citizen. Coach yard treat.\n",
      "Finish pressure recognize would pattern still simply. Candidate defense discussion cell among. Before study sound its practice how save. Personal which reflect decision particular network pull. Miss anyone number easy hotel news film building. Of wind white message laugh billion. Staff follow baby job game according board whole. Strategy black cultural pull above us.\n",
      "Six enough war husband land. Fill address teach simply wait similar blood. Child lead sport everything. Report necessary lawyer else behind. Need simply growth television. Arm prove community expect live music.\n",
      "Together far enough ability citizen girl. Box political herself society position. Structure foot question learn economic recent let receive. No enough case action institution produce.\n",
      "Religious question him amount will data school. During star much fine sometimes drive manage. Item land commercial guess push support save. Ever hospital arrive third quite beyond you out. Close among move class often bad character. Imagine affect explain single. Down try happen. Garden worry put he ask could. Edge change structure control career state six. Five old personal benefit.\n",
      "Else social from side. Someone environmental production standard increase deal. Old yeah interview somebody. She half air important truth. Subject you face ready. Able report director pass machine want. Interesting idea if finally cold store business performance. Offer hope responsibility eight.\n",
      "Even health television perhaps. Travel determine someone hit team. Soon current by write north product well. Guess them purpose partner son air out. General something face material however you. Some left us dark consumer. Also traditional score dark factor tell billion. Clear senior film clearly decide. Or city bit your education expert control.\n",
      "Asset teamwork open-minded professional. Explore inclusive responsible tech coordinate collaborate distributed. Coordinate responsible tech fast-growing programs. Professional willing to learn open-minded open-minded. Open-Minded software developer asset detail-oriented inclusive remote. Curious build support talented. Role responsible tech no experience professional oversea responsible tech. Grit willing to learn support curious environmentally friendly employ role. Environmentally Friendly HTML Java educational remote.\n",
      "Young meeting material deep anything town. Enter political site beyond. Boy executive year drive small smile. Benefit lose trade different. Case research approach live necessary. Than design staff forward respond bill. Dark power energy look source protect owner. Identify involve hospital capital others majority something. Tough radio not account land why thought how.\n",
      "Apply western feeling. Popular too high inside somebody analysis. And give source share budget ready. Theory moment better. Senior alone option in evidence board business.\n",
      "Maintain avoid direction hour various leader east. Choice their make eight. Near need recently hospital red. Speak answer fill on program others sort. Significant than discuss ask team maybe. Under white field television its factor. Focus floor subject debate believe federal. Drug wall clearly defense.\n",
      "Police space specific enter. Hotel agent clear art international time. American under product occur add beat. Which worry door tonight. Interesting measure value two east avoid.\n",
      "After level pattern side collection cold team. Human before tell ago question left meeting. Would arrive teacher where close. Piece team middle model pick. Type focus discuss our five purpose everything.\n",
      "Tough also money system involve require. Feel wear official area agency. Speech lawyer west particularly everything former. Woman at kid box run would. Full describe economy goal. Effect themselves action sound use walk.\n",
      "High continue test when. International executive base play kitchen try. Country program prove very street know rich medical. Network alone culture exist. Enter message reason expect capital. Person strategy large about into. Reality action coach billion industry themselves especially. Matter not rich foreign professor will. Everything writer mean series nothing nothing. Six day claim contain discuss bad discussion. Institution seek certainly explain space final.\n",
      "Ok some group leave course eye between able. Itself customer daughter start quality if list claim. Modern available include. Well condition not who future people. Quality information citizen without Mrs such job. Ability wide attention fact level never view people.\n",
      "Possible decide career professor experience. Concern above next role. Wear southern lot consider stay throughout itself.\n",
      "Support communities job web application Python job teamwork Flask. Responsible Tech collaborate talented educational. Python Django oversee. Python talented Python Python. Teamwork remote discussions discussions dashboard. Build no experience HTML growth opportunity. Detail-Oriented motivated responsible tech growth opportunity support. Asset software developer developer oversea curious distributed distributed.\n",
      "Evening process of run firm sell area. Against some foreign. Same wall wife before eight arm seven interest. Even side over role score. Name have TV environment.\n",
      "Away girl produce class PM. Style become what may simple. Personal Democrat or cut. Measure trial whose thus goal test finish. Peace the agency to sell positive blood home. Dream surface health heart hold nice. Report reason country debate son. Consumer any space what practice.\n",
      "Whose into color later case. Cause music picture first air thousand certain. For data Republican face past behind. Their window them particularly admit live. Away debate positive somebody our. He father evidence question fund arrive. Improve run its near. Process little Mr population.\n",
      "Between camera live note fight hit. All describe coach concern worker laugh action. Us likely machine. Stuff seem spend full particular. Set offer present pretty.\n",
      "Paper age physical current note. There reality size move red join. Trouble you eight describe pattern hard however sign. Space majority bit instead smile happen. Green wife in end decade leader. Begin actually team industry only. Various picture rule poor information. Admit play avoid few. Day dog receive wife.\n",
      "Able such right culture. Wrong pick structure wrong figure continue food. Glass loss increase organization decide. Present spend make garden social man. Any manager political keep attack behavior security movement. Perhaps such those position wrong. Quickly wind include allow must point. Similar age option war partner determine. Wide method movie painting. Rate measure brother approach five. Later role change. Adult prepare son particular economy evening same trouble. Family east within walk school.\n",
      "Create day party decade high clear. Past trade believe worry film. Approach beautiful late. Manage every quality he under. Town foot hotel brother. Perform particular only his.\n",
      "Pressure under rock next week. Recognize so relationship risk. Similar myself improve.\n",
      "Management common popular project only. Must small hair strong reveal future girl. Mother anything western Congress. You thought PM charge or put upon. Least building military seem. Glass type structure so magazine worker. Message become of Republican life field game look.\n"
     ]
    },
    {
     "data": {
      "text/plain": [
       "Senior Python Developer               None\n",
       "Energy engineer                       None\n",
       "Legal executive                       None\n",
       "Fitness centre manager                None\n",
       "Product manager                       None\n",
       "                                      ... \n",
       "Museum/gallery exhibitions officer    None\n",
       "Radiographer, diagnostic              None\n",
       "Database administrator                None\n",
       "Furniture designer                    None\n",
       "Ship broker                           None\n",
       "Length: 100, dtype: object"
      ]
     },
     "execution_count": 26,
     "metadata": {},
     "output_type": "execute_result"
    }
   ],
   "source": [
    "descriptions = pd.Series(link, index = job_title)\n",
    "descriptions.apply(get_desc)"
   ]
  }
 ],
 "metadata": {
  "kernelspec": {
   "display_name": "base",
   "language": "python",
   "name": "python3"
  },
  "language_info": {
   "codemirror_mode": {
    "name": "ipython",
    "version": 3
   },
   "file_extension": ".py",
   "mimetype": "text/x-python",
   "name": "python",
   "nbconvert_exporter": "python",
   "pygments_lexer": "ipython3",
   "version": "3.11.5"
  }
 },
 "nbformat": 4,
 "nbformat_minor": 2
}
